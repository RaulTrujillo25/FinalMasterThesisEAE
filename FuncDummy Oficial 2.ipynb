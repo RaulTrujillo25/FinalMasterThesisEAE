{
 "cells": [
  {
   "cell_type": "code",
   "execution_count": 1,
   "id": "mobile-cursor",
   "metadata": {},
   "outputs": [],
   "source": []
  },
  {
   "cell_type": "code",
   "execution_count": 30,
   "id": "forced-thanks",
   "metadata": {},
   "outputs": [
    {
     "data": {
      "text/html": [
       "<div>\n",
       "<style scoped>\n",
       "    .dataframe tbody tr th:only-of-type {\n",
       "        vertical-align: middle;\n",
       "    }\n",
       "\n",
       "    .dataframe tbody tr th {\n",
       "        vertical-align: top;\n",
       "    }\n",
       "\n",
       "    .dataframe thead th {\n",
       "        text-align: right;\n",
       "    }\n",
       "</style>\n",
       "<table border=\"1\" class=\"dataframe\">\n",
       "  <thead>\n",
       "    <tr style=\"text-align: right;\">\n",
       "      <th></th>\n",
       "      <th>uno</th>\n",
       "      <th>ID_ESTRU</th>\n",
       "      <th>dos</th>\n",
       "    </tr>\n",
       "  </thead>\n",
       "  <tbody>\n",
       "    <tr>\n",
       "      <th>0</th>\n",
       "      <td>5</td>\n",
       "      <td>a</td>\n",
       "      <td>1</td>\n",
       "    </tr>\n",
       "    <tr>\n",
       "      <th>1</th>\n",
       "      <td>3</td>\n",
       "      <td>b</td>\n",
       "      <td>3</td>\n",
       "    </tr>\n",
       "    <tr>\n",
       "      <th>2</th>\n",
       "      <td>1</td>\n",
       "      <td>b</td>\n",
       "      <td>2</td>\n",
       "    </tr>\n",
       "    <tr>\n",
       "      <th>3</th>\n",
       "      <td>3</td>\n",
       "      <td>a</td>\n",
       "      <td>1</td>\n",
       "    </tr>\n",
       "    <tr>\n",
       "      <th>4</th>\n",
       "      <td>4</td>\n",
       "      <td>b</td>\n",
       "      <td>2</td>\n",
       "    </tr>\n",
       "    <tr>\n",
       "      <th>5</th>\n",
       "      <td>7</td>\n",
       "      <td>c</td>\n",
       "      <td>1</td>\n",
       "    </tr>\n",
       "    <tr>\n",
       "      <th>6</th>\n",
       "      <td>7</td>\n",
       "      <td>c</td>\n",
       "      <td>1</td>\n",
       "    </tr>\n",
       "  </tbody>\n",
       "</table>\n",
       "</div>"
      ],
      "text/plain": [
       "  uno ID_ESTRU dos\n",
       "0   5        a   1\n",
       "1   3        b   3\n",
       "2   1        b   2\n",
       "3   3        a   1\n",
       "4   4        b   2\n",
       "5   7        c   1\n",
       "6   7        c   1"
      ]
     },
     "execution_count": 30,
     "metadata": {},
     "output_type": "execute_result"
    }
   ],
   "source": []
  },
  {
   "cell_type": "code",
   "execution_count": 33,
   "id": "incident-beast",
   "metadata": {},
   "outputs": [],
   "source": [
    "def dummy_convert(df,ID_ESTRUC):\n",
    "    \n",
    "    estruturas = pd.get_dummies(df[ID_ESTRUC], prefix = \"Estrutura\")\n",
    "    df = pd.concat([df, estruturas], axis = 1)\n",
    "    \n",
    "    return print(df)"
   ]
  },
  {
   "cell_type": "code",
   "execution_count": 34,
   "id": "finite-vaccine",
   "metadata": {},
   "outputs": [
    {
     "name": "stdout",
     "output_type": "stream",
     "text": [
      "  uno ID_ESTRU dos  Estrutura_a  Estrutura_b  Estrutura_c\n",
      "0   5        a   1            1            0            0\n",
      "1   3        b   3            0            1            0\n",
      "2   1        b   2            0            1            0\n",
      "3   3        a   1            1            0            0\n",
      "4   4        b   2            0            1            0\n",
      "5   7        c   1            0            0            1\n",
      "6   7        c   1            0            0            1\n"
     ]
    }
   ],
   "source": [
    "dummy_convert(df,\"ID_ESTRU\")"
   ]
  },
  {
   "cell_type": "code",
   "execution_count": null,
   "id": "exterior-fever",
   "metadata": {},
   "outputs": [],
   "source": []
  }
 ],
 "metadata": {
  "kernelspec": {
   "display_name": "Python 3",
   "language": "python",
   "name": "python3"
  },
  "language_info": {
   "codemirror_mode": {
    "name": "ipython",
    "version": 3
   },
   "file_extension": ".py",
   "mimetype": "text/x-python",
   "name": "python",
   "nbconvert_exporter": "python",
   "pygments_lexer": "ipython3",
   "version": "3.7.8"
  }
 },
 "nbformat": 4,
 "nbformat_minor": 5
}
