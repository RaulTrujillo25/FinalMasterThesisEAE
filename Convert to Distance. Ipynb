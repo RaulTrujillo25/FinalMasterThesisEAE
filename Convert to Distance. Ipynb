{
 "cells": [
  {
   "cell_type": "code",
   "execution_count": 12,
   "id": "complimentary-specification",
   "metadata": {},
   "outputs": [],
   "source": [
    "\n",
    "import numpy as np\n",
    "from math import sin, cos, sqrt, atan2, radians\n",
    "\n",
    "def DistanciaGPS (lat1,lon1,lat2,lon2):\n",
    "# approximate radius of earth in km\n",
    "    R = 6373.0\n",
    "\n",
    "\n",
    "    lat1 = radians(lat1) # dependiten de la planta\n",
    "    lon1 = radians(lon1)\n",
    "    lat2 = radians(lat2) # dependiente de la ubicacion del cliente\n",
    "    lon2 = radians(lon2)\n",
    "\n",
    "    dlon = lon2 - lon1\n",
    "    dlat = lat2 - lat1\n",
    "\n",
    "    a = sin(dlat / 2)**2 + cos(lat1) * cos(lat2) * sin(dlon / 2)**2\n",
    "    c = 2 * atan2(sqrt(a), sqrt(1 - a))\n",
    "\n",
    "    distance = R * c\n",
    "\n",
    "    return print(\"Result:\",np.round(distance), \"KM\")\n"
   ]
  },
  {
   "cell_type": "code",
   "execution_count": 13,
   "id": "cutting-congo",
   "metadata": {},
   "outputs": [
    {
     "name": "stdout",
     "output_type": "stream",
     "text": [
      "Result: 279.0 KM\n"
     ]
    }
   ],
   "source": [
    "DistanciaGPS(52.2296756,21.0122287,52.406374,16.9251681)"
   ]
  },
  {
   "cell_type": "code",
   "execution_count": null,
   "id": "enclosed-recovery",
   "metadata": {},
   "outputs": [],
   "source": []
  }
 ],
 "metadata": {
  "kernelspec": {
   "display_name": "Python 3",
   "language": "python",
   "name": "python3"
  },
  "language_info": {
   "codemirror_mode": {
    "name": "ipython",
    "version": 3
   },
   "file_extension": ".py",
   "mimetype": "text/x-python",
   "name": "python",
   "nbconvert_exporter": "python",
   "pygments_lexer": "ipython3",
   "version": "3.7.8"
  }
 },
 "nbformat": 4,
 "nbformat_minor": 5
}
